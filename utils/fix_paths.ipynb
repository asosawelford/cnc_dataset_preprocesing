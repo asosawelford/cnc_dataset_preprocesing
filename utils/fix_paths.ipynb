{
 "cells": [
  {
   "cell_type": "markdown",
   "metadata": {},
   "source": [
    "# Replace spaces with underscores and make lowercase\n",
    "This notebook can be used and edited to correct the paths in the data files, i.e. remove spaces, make lowercase, etc."
   ]
  },
  {
   "cell_type": "code",
   "execution_count": 8,
   "metadata": {},
   "outputs": [],
   "source": [
    "#fix audio paths (replace spaces with underscores and \".\" with \"\")\n",
    "import os\n",
    "\n",
    "directory = \"/home/udesa_ubuntu/fondecyt/CETRAM/Participantes\"\n",
    "\n",
    "for root, dirs, files in os.walk(directory):\n",
    "        for dir in dirs:\n",
    "                #replace dir names \" \" with \"_\"\n",
    "                new_dir = dir.replace(\" \", \"_\")\n",
    "                os.rename(os.path.join(root, dir), os.path.join(root, new_dir))\n",
    "        for file_name in files:\n",
    "            # Create the old and new file paths\n",
    "            old_path = os.path.join(root, file_name)\n",
    "            new_path = os.path.join(root, file_name.replace(\" \", \"_\"))\n",
    "\n",
    "            # Rename the file\n",
    "            os.rename(old_path, new_path)\n",
    "                \n"
   ]
  }
 ],
 "metadata": {
  "kernelspec": {
   "display_name": "venv",
   "language": "python",
   "name": "python3"
  },
  "language_info": {
   "codemirror_mode": {
    "name": "ipython",
    "version": 3
   },
   "file_extension": ".py",
   "mimetype": "text/x-python",
   "name": "python",
   "nbconvert_exporter": "python",
   "pygments_lexer": "ipython3",
   "version": "3.9.15"
  }
 },
 "nbformat": 4,
 "nbformat_minor": 2
}
