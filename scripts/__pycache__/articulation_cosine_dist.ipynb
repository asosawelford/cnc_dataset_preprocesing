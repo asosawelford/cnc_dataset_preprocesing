{
 "cells": [
  {
   "cell_type": "markdown",
   "metadata": {},
   "source": [
    "# Average out each articulation feature in the control group\n",
    "\n",
    "We are going to take a series of articulation features extracted form the CN subgroup of a database. Our aim is to generate an average of these features. We have 2 tasks (\"lectura\" and \"pataka\"), so we'll make an \"average\" for each task. Also, we want to leave out about 20% of the data for testing purposes.\n",
    "\n",
    "Let's begin by loading the data and taking a look at it.\n"
   ]
  },
  {
   "cell_type": "code",
   "execution_count": 50,
   "metadata": {},
   "outputs": [
    {
     "name": "stdout",
     "output_type": "stream",
     "text": [
      "/home/udesa_ubuntu/tell_lambda_workers/test/articulation/proccesed\n"
     ]
    }
   ],
   "source": [
    "# import necesary libraries\n",
    "import os\n",
    "import json\n",
    "import numpy as np\n",
    "from scipy.spatial.distance import cosine\n",
    "import pandas as pd\n",
    "import matplotlib.pyplot as plt\n",
    "\n",
    "%cd proccesed/"
   ]
  },
  {
   "cell_type": "code",
   "execution_count": 51,
   "metadata": {},
   "outputs": [
    {
     "data": {
      "text/html": [
       "<div>\n",
       "<style scoped>\n",
       "    .dataframe tbody tr th:only-of-type {\n",
       "        vertical-align: middle;\n",
       "    }\n",
       "\n",
       "    .dataframe tbody tr th {\n",
       "        vertical-align: top;\n",
       "    }\n",
       "\n",
       "    .dataframe thead th {\n",
       "        text-align: right;\n",
       "    }\n",
       "</style>\n",
       "<table border=\"1\" class=\"dataframe\">\n",
       "  <thead>\n",
       "    <tr style=\"text-align: right;\">\n",
       "      <th></th>\n",
       "      <th>filename</th>\n",
       "      <th>avg BBEon_1</th>\n",
       "      <th>avg BBEon_2</th>\n",
       "      <th>avg BBEon_3</th>\n",
       "      <th>avg BBEon_4</th>\n",
       "      <th>avg BBEon_5</th>\n",
       "      <th>avg BBEon_6</th>\n",
       "      <th>avg BBEon_7</th>\n",
       "      <th>avg BBEon_8</th>\n",
       "      <th>avg BBEon_9</th>\n",
       "      <th>...</th>\n",
       "      <th>kurtosis DDMFCCoff_9</th>\n",
       "      <th>kurtosis DDMFCCoff_10</th>\n",
       "      <th>kurtosis DDMFCCoff_11</th>\n",
       "      <th>kurtosis DDMFCCoff_12</th>\n",
       "      <th>kurtosis F1</th>\n",
       "      <th>kurtosis DF1</th>\n",
       "      <th>kurtosis DDF1</th>\n",
       "      <th>kurtosis F2</th>\n",
       "      <th>kurtosis DF2</th>\n",
       "      <th>kurtosis DDF2</th>\n",
       "    </tr>\n",
       "  </thead>\n",
       "  <tbody>\n",
       "    <tr>\n",
       "      <th>0</th>\n",
       "      <td>/home/udesa_ubuntu/Documents/fondecyt/CN/CS002...</td>\n",
       "      <td>-1.347135</td>\n",
       "      <td>-0.454923</td>\n",
       "      <td>-0.872094</td>\n",
       "      <td>-1.232488</td>\n",
       "      <td>-1.291609</td>\n",
       "      <td>-1.494240</td>\n",
       "      <td>-1.900199</td>\n",
       "      <td>-2.460602</td>\n",
       "      <td>-2.763388</td>\n",
       "      <td>...</td>\n",
       "      <td>1.024591</td>\n",
       "      <td>1.835584</td>\n",
       "      <td>2.051488</td>\n",
       "      <td>0.924213</td>\n",
       "      <td>4.786296</td>\n",
       "      <td>4.009641</td>\n",
       "      <td>3.837096</td>\n",
       "      <td>3.967126</td>\n",
       "      <td>4.112588</td>\n",
       "      <td>4.903926</td>\n",
       "    </tr>\n",
       "    <tr>\n",
       "      <th>1</th>\n",
       "      <td>/home/udesa_ubuntu/Documents/fondecyt/CN/CS002...</td>\n",
       "      <td>-1.778633</td>\n",
       "      <td>-0.998506</td>\n",
       "      <td>-1.311620</td>\n",
       "      <td>-1.647969</td>\n",
       "      <td>-1.841327</td>\n",
       "      <td>-2.249961</td>\n",
       "      <td>-2.729209</td>\n",
       "      <td>-3.146226</td>\n",
       "      <td>-3.268921</td>\n",
       "      <td>...</td>\n",
       "      <td>1.875667</td>\n",
       "      <td>0.635026</td>\n",
       "      <td>1.256580</td>\n",
       "      <td>1.507022</td>\n",
       "      <td>2.546706</td>\n",
       "      <td>6.535446</td>\n",
       "      <td>5.137583</td>\n",
       "      <td>0.884774</td>\n",
       "      <td>5.102068</td>\n",
       "      <td>5.125417</td>\n",
       "    </tr>\n",
       "    <tr>\n",
       "      <th>2</th>\n",
       "      <td>/home/udesa_ubuntu/Documents/fondecyt/CN/SL003...</td>\n",
       "      <td>-1.516880</td>\n",
       "      <td>-0.653088</td>\n",
       "      <td>-0.797430</td>\n",
       "      <td>-1.060630</td>\n",
       "      <td>-1.293824</td>\n",
       "      <td>-1.726211</td>\n",
       "      <td>-2.296614</td>\n",
       "      <td>-2.469264</td>\n",
       "      <td>-2.929572</td>\n",
       "      <td>...</td>\n",
       "      <td>1.234591</td>\n",
       "      <td>2.194756</td>\n",
       "      <td>2.640722</td>\n",
       "      <td>1.377717</td>\n",
       "      <td>8.273225</td>\n",
       "      <td>13.526852</td>\n",
       "      <td>13.146038</td>\n",
       "      <td>1.251328</td>\n",
       "      <td>7.633775</td>\n",
       "      <td>7.697933</td>\n",
       "    </tr>\n",
       "    <tr>\n",
       "      <th>3</th>\n",
       "      <td>/home/udesa_ubuntu/Documents/fondecyt/CN/SL003...</td>\n",
       "      <td>-1.434472</td>\n",
       "      <td>-0.478817</td>\n",
       "      <td>-0.683705</td>\n",
       "      <td>-0.791789</td>\n",
       "      <td>-0.933026</td>\n",
       "      <td>-1.249266</td>\n",
       "      <td>-1.864121</td>\n",
       "      <td>-2.167757</td>\n",
       "      <td>-2.724570</td>\n",
       "      <td>...</td>\n",
       "      <td>8.633757</td>\n",
       "      <td>3.650503</td>\n",
       "      <td>2.932106</td>\n",
       "      <td>1.311581</td>\n",
       "      <td>14.067711</td>\n",
       "      <td>13.816922</td>\n",
       "      <td>14.069832</td>\n",
       "      <td>1.819544</td>\n",
       "      <td>4.827385</td>\n",
       "      <td>4.823087</td>\n",
       "    </tr>\n",
       "    <tr>\n",
       "      <th>4</th>\n",
       "      <td>/home/udesa_ubuntu/Documents/fondecyt/CN/CS003...</td>\n",
       "      <td>-1.753780</td>\n",
       "      <td>-1.091071</td>\n",
       "      <td>-1.116782</td>\n",
       "      <td>-1.874331</td>\n",
       "      <td>-1.793263</td>\n",
       "      <td>-1.985555</td>\n",
       "      <td>-2.425010</td>\n",
       "      <td>-2.853133</td>\n",
       "      <td>-3.338507</td>\n",
       "      <td>...</td>\n",
       "      <td>6.974551</td>\n",
       "      <td>1.123623</td>\n",
       "      <td>4.382145</td>\n",
       "      <td>5.380652</td>\n",
       "      <td>11.157129</td>\n",
       "      <td>13.184195</td>\n",
       "      <td>12.423228</td>\n",
       "      <td>7.462169</td>\n",
       "      <td>14.187406</td>\n",
       "      <td>10.309534</td>\n",
       "    </tr>\n",
       "  </tbody>\n",
       "</table>\n",
       "<p>5 rows × 489 columns</p>\n",
       "</div>"
      ],
      "text/plain": [
       "                                            filename  avg BBEon_1  \\\n",
       "0  /home/udesa_ubuntu/Documents/fondecyt/CN/CS002...    -1.347135   \n",
       "1  /home/udesa_ubuntu/Documents/fondecyt/CN/CS002...    -1.778633   \n",
       "2  /home/udesa_ubuntu/Documents/fondecyt/CN/SL003...    -1.516880   \n",
       "3  /home/udesa_ubuntu/Documents/fondecyt/CN/SL003...    -1.434472   \n",
       "4  /home/udesa_ubuntu/Documents/fondecyt/CN/CS003...    -1.753780   \n",
       "\n",
       "   avg BBEon_2  avg BBEon_3  avg BBEon_4  avg BBEon_5  avg BBEon_6  \\\n",
       "0    -0.454923    -0.872094    -1.232488    -1.291609    -1.494240   \n",
       "1    -0.998506    -1.311620    -1.647969    -1.841327    -2.249961   \n",
       "2    -0.653088    -0.797430    -1.060630    -1.293824    -1.726211   \n",
       "3    -0.478817    -0.683705    -0.791789    -0.933026    -1.249266   \n",
       "4    -1.091071    -1.116782    -1.874331    -1.793263    -1.985555   \n",
       "\n",
       "   avg BBEon_7  avg BBEon_8  avg BBEon_9  ...  kurtosis DDMFCCoff_9  \\\n",
       "0    -1.900199    -2.460602    -2.763388  ...              1.024591   \n",
       "1    -2.729209    -3.146226    -3.268921  ...              1.875667   \n",
       "2    -2.296614    -2.469264    -2.929572  ...              1.234591   \n",
       "3    -1.864121    -2.167757    -2.724570  ...              8.633757   \n",
       "4    -2.425010    -2.853133    -3.338507  ...              6.974551   \n",
       "\n",
       "   kurtosis DDMFCCoff_10  kurtosis DDMFCCoff_11  kurtosis DDMFCCoff_12  \\\n",
       "0               1.835584               2.051488               0.924213   \n",
       "1               0.635026               1.256580               1.507022   \n",
       "2               2.194756               2.640722               1.377717   \n",
       "3               3.650503               2.932106               1.311581   \n",
       "4               1.123623               4.382145               5.380652   \n",
       "\n",
       "   kurtosis F1  kurtosis DF1  kurtosis DDF1  kurtosis F2  kurtosis DF2  \\\n",
       "0     4.786296      4.009641       3.837096     3.967126      4.112588   \n",
       "1     2.546706      6.535446       5.137583     0.884774      5.102068   \n",
       "2     8.273225     13.526852      13.146038     1.251328      7.633775   \n",
       "3    14.067711     13.816922      14.069832     1.819544      4.827385   \n",
       "4    11.157129     13.184195      12.423228     7.462169     14.187406   \n",
       "\n",
       "   kurtosis DDF2  \n",
       "0       4.903926  \n",
       "1       5.125417  \n",
       "2       7.697933  \n",
       "3       4.823087  \n",
       "4      10.309534  \n",
       "\n",
       "[5 rows x 489 columns]"
      ]
     },
     "execution_count": 51,
     "metadata": {},
     "output_type": "execute_result"
    }
   ],
   "source": [
    "fondecyt_cn = pd.read_csv('CN_disvoice.csv')\n",
    "fondecyt_cn.head()"
   ]
  },
  {
   "cell_type": "markdown",
   "metadata": {},
   "source": [
    "Great, now let's split the data into the two tasks, we'll take advantage of the fact that the filenames end with the task name.\n",
    "\n",
    "Then, lets split the dataframes into average set, and test set."
   ]
  },
  {
   "cell_type": "code",
   "execution_count": 52,
   "metadata": {},
   "outputs": [
    {
     "name": "stdout",
     "output_type": "stream",
     "text": [
      "amount of subjetcs in for the ´lectura´ task in CN subgroup:  49\n",
      "amount of subjetcs in for the ´pataka´ task in CN subgroup:  47\n",
      "amount of subjetcs in for the ´lectura´ task in CN subgroup for averaging:  39\n",
      "amount of subjetcs in for the ´pataka´ task in CN subgroup for averaging:  38\n",
      "amount of subjetcs in for the ´lectura´ task in CN subgroup for testing:  10\n",
      "amount of subjetcs in for the ´pataka´ task in CN subgroup for testing:  9\n"
     ]
    }
   ],
   "source": [
    "task1 = \"Lectura.wav\"\n",
    "task2 = \"Pataka.wav\"\n",
    "\n",
    "fondecyt_cn_lectura = fondecyt_cn[fondecyt_cn['filename'].str.endswith(task1)]\n",
    "fondecyt_cn_pataka = fondecyt_cn[fondecyt_cn['filename'].str.endswith(task2)]\n",
    "\n",
    "print(\"amount of subjetcs in for the ´lectura´ task in CN subgroup: \", len(fondecyt_cn_lectura))\n",
    "print(\"amount of subjetcs in for the ´pataka´ task in CN subgroup: \", len(fondecyt_cn_pataka))\n",
    "\n",
    "\n",
    "# split the dataframe into two, for average and test sets\n",
    "fondecyt_cn_lectura_avg = fondecyt_cn_lectura.sample(frac=0.8)\n",
    "fondecyt_cn_lectura_test = fondecyt_cn_lectura.drop(fondecyt_cn_lectura_avg.index)\n",
    "\n",
    "fondecyt_cn_pataka_avg = fondecyt_cn_pataka.sample(frac=0.8)\n",
    "fondecyt_cn_pataka_test = fondecyt_cn_pataka.drop(fondecyt_cn_pataka_avg.index)\n",
    "\n",
    "print(\"amount of subjetcs in for the ´lectura´ task in CN subgroup for averaging: \", len(fondecyt_cn_lectura_avg))\n",
    "print(\"amount of subjetcs in for the ´pataka´ task in CN subgroup for averaging: \", len(fondecyt_cn_pataka_avg))\n",
    "print(\"amount of subjetcs in for the ´lectura´ task in CN subgroup for testing: \", len(fondecyt_cn_lectura_test))\n",
    "print(\"amount of subjetcs in for the ´pataka´ task in CN subgroup for testing: \", len(fondecyt_cn_pataka_test))"
   ]
  },
  {
   "cell_type": "markdown",
   "metadata": {},
   "source": [
    "Save the averages in json format, and the test sets in csv format."
   ]
  },
  {
   "cell_type": "code",
   "execution_count": 53,
   "metadata": {},
   "outputs": [],
   "source": [
    "fondecyt_cn_lectura_mean = fondecyt_cn_lectura_avg.iloc[:, 1:].mean()\n",
    "fondecyt_cn_pataka_mean = fondecyt_cn_pataka_avg.iloc[:, 1:].mean()\n",
    "\n",
    "fondecyt_cn_lectura_mean.to_json('fondecyt_cn_lectura_averages.json')\n",
    "fondecyt_cn_pataka_mean.to_json('fondecyt_cn_pataka_averages.json')\n",
    "\n",
    "fondecyt_cn_lectura_test.to_csv('fondecyt_cn_lectura_test.csv')\n",
    "fondecyt_cn_pataka_test.to_csv('fondecyt_cn_pataka_test.csv')\n"
   ]
  },
  {
   "cell_type": "markdown",
   "metadata": {},
   "source": [
    "## Similar procedure to the PD subgroup\n",
    "Since we'll be making comparisons to the PD subgroup, we'll use a similar procedure, skipping the part where we divide into two sets, and just saving the result in csv format."
   ]
  },
  {
   "cell_type": "code",
   "execution_count": 54,
   "metadata": {},
   "outputs": [
    {
     "name": "stdout",
     "output_type": "stream",
     "text": [
      "amount of subjetcs in for the ´lectura´ task in PD subgroup:  23\n",
      "amount of subjetcs in for the ´pataka´ task in PD subgroup:  26\n"
     ]
    }
   ],
   "source": [
    "fondecyt_pd = pd.read_csv('PD_disvoice.csv')\n",
    "\n",
    "fondecyt_pd_lectura = fondecyt_pd[fondecyt_pd['filename'].str.endswith(task1)]\n",
    "fondecyt_pd_pataka = fondecyt_pd[fondecyt_pd['filename'].str.endswith(task2)]\n",
    "\n",
    "print(\"amount of subjetcs in for the ´lectura´ task in PD subgroup: \", len(fondecyt_pd_lectura))\n",
    "print(\"amount of subjetcs in for the ´pataka´ task in PD subgroup: \", len(fondecyt_pd_pataka))\n",
    "\n",
    "#save to csv\n",
    "fondecyt_pd_lectura.to_csv('fondecyt_pd_lectura.csv')\n",
    "fondecyt_pd_pataka.to_csv('fondecyt_pd_pataka.csv')"
   ]
  },
  {
   "cell_type": "markdown",
   "metadata": {},
   "source": [
    "# Cosine distance between two sets of articulation features\n",
    "\n",
    "Now that we have our \"average\" articulation features for the CN and PD subgroups, we can calculate the cosine distance between the test set of the CN subgroup, and the PD subgroup ot obtain a range of distances.\n",
    "\n",
    "First, let's define a function to load the json files that store the articulation features, and make a split into two arrays, for onset and offset features"
   ]
  },
  {
   "cell_type": "code",
   "execution_count": 55,
   "metadata": {},
   "outputs": [],
   "source": [
    "def articulation_dict_to_array(articulation_path):\n",
    "    \"\"\" takes two json files that store articulation features as given by the aws lambda implementation of disvoice\n",
    "    and returns the cosine distance between the onset and offset features\n",
    "    \"\"\"\n",
    "    \n",
    "    with open(articulation_path, \"r\") as articulation_features:\n",
    "        articulation = json.load(articulation_features)\n",
    "\n",
    "\n",
    "    onset_features = []\n",
    "    offset_features = []\n",
    "    for i in range(1, 23):\n",
    "        onset_features.append(articulation[f\"avg BBEon_{i}\"])\n",
    "        offset_features.append(articulation[f\"avg BBEoff_{i}\"])\n",
    "\n",
    "    for i in range(1, 13):\n",
    "        onset_features.append(articulation[f\"avg MFCCon_{i}\"])\n",
    "        onset_features.append(articulation[f\"avg DMFCCon_{i}\"])\n",
    "        onset_features.append(articulation[f\"avg DDMFCCon_{i}\"])\n",
    "        offset_features.append(articulation[f\"avg MFCCoff_{i}\"])\n",
    "        offset_features.append(articulation[f\"avg DMFCCoff_{i}\"])\n",
    "        offset_features.append(articulation[f\"avg DMFCCoff_{i}\"])\n",
    "    \n",
    "    return np.array(onset_features), np.array(offset_features)"
   ]
  },
  {
   "cell_type": "markdown",
   "metadata": {},
   "source": [
    "## For now, lets concentrate on the Lectura task."
   ]
  },
  {
   "cell_type": "code",
   "execution_count": 56,
   "metadata": {},
   "outputs": [],
   "source": [
    "cn_lectura_mean_onset, cn_lectura_mean_offset = articulation_dict_to_array(\"fondecyt_cn_lectura_averages.json\")"
   ]
  },
  {
   "cell_type": "code",
   "execution_count": 57,
   "metadata": {},
   "outputs": [],
   "source": [
    "# read the fondecyt_cn_lecutra_test.csv file\n",
    "fondecyt_cn_lectura_test = pd.read_csv('fondecyt_cn_lectura_test.csv')\n",
    "fondecyt_pd_lectura = pd.read_csv('fondecyt_pd_lectura.csv')\n",
    "\n",
    "# lets transform each row into a json file. filename column will be used as the filename, and then each column number will be\n",
    "# used as the key, and the value will be the value of the cell\n",
    "\n",
    "for index, row in fondecyt_cn_lectura_test.iterrows():\n",
    "    filename = row['filename']\n",
    "    row = row.drop('filename')\n",
    "    row = row.to_dict()\n",
    "    filename = os.path.split(filename)[-1]\n",
    "    with open(f\"fondecyt_cn_lectura_test/{filename}.json\", \"w\") as json_file:\n",
    "        json.dump(row, json_file)\n",
    "\n",
    "for index, row in fondecyt_pd_lectura.iterrows():\n",
    "    filename = row['filename']\n",
    "    row = row.drop('filename')\n",
    "    row = row.to_dict()\n",
    "    filename = os.path.split(filename)[-1]\n",
    "    with open(f\"fondecyt_pd_lectura/{filename}.json\", \"w\") as json_file:\n",
    "        json.dump(row, json_file)"
   ]
  },
  {
   "cell_type": "markdown",
   "metadata": {},
   "source": [
    "Now, for each file in the \"fondecyt_cn_lectura_test\" folder, we'll calculate the distance to cn_lectura_mean_onset and cn_lectura_mean_offset"
   ]
  },
  {
   "cell_type": "code",
   "execution_count": 58,
   "metadata": {},
   "outputs": [
    {
     "name": "stdout",
     "output_type": "stream",
     "text": [
      "results for the ´lectura´ task in CN subgroup\n",
      "mean cosine distance between onset features:  0.11079087015226179\n",
      "max cosine distance between onset features:  0.17695832743824624\n",
      "min cosine distance between onset features:  0.06466586325020918\n",
      "\n",
      "mean cosine distance between offset features:  0.04426325506092845\n",
      "max cosine distance between offset features:  0.07419009241811769\n",
      "min cosine distance between offset features:  0.010959358300411393\n"
     ]
    }
   ],
   "source": [
    "onset_distances_cn_lectura_test  = []\n",
    "offset_distances_cn_lectura_test  = []\n",
    "\n",
    "for articulation_dict in os.listdir(\"fondecyt_cn_lectura_test\"):\n",
    "    if articulation_dict.endswith(\".json\"):\n",
    "        onset, offset = articulation_dict_to_array(f\"fondecyt_cn_lectura_test/{articulation_dict}\")\n",
    "        # print(f\"cosine distance between cn_lectura_mean_onset and {articulation_dict} : \", cosine(cn_lectura_mean_onset, onset))\n",
    "        # print(f\"cosine distance between cn_lectura_mean_offset and {articulation_dict} : \", cosine(cn_lectura_mean_offset, offset))\n",
    "        onset_distances_cn_lectura_test .append(cosine(cn_lectura_mean_onset, onset))\n",
    "        offset_distances_cn_lectura_test .append(cosine(cn_lectura_mean_offset, offset))\n",
    "\n",
    "print(\"results for the ´lectura´ task in CN subgroup\")\n",
    "print(\"mean cosine distance between onset features: \", np.mean(onset_distances_cn_lectura_test ))\n",
    "print(\"max cosine distance between onset features: \", np.max(onset_distances_cn_lectura_test ))\n",
    "print(\"min cosine distance between onset features: \", np.min(onset_distances_cn_lectura_test ))\n",
    "print()\n",
    "print(\"mean cosine distance between offset features: \", np.mean(offset_distances_cn_lectura_test ))\n",
    "print(\"max cosine distance between offset features: \", np.max(offset_distances_cn_lectura_test ))\n",
    "print(\"min cosine distance between offset features: \", np.min(offset_distances_cn_lectura_test ))\n"
   ]
  },
  {
   "cell_type": "markdown",
   "metadata": {},
   "source": [
    "Now, lets do the same for the PD subgroup"
   ]
  },
  {
   "cell_type": "code",
   "execution_count": 59,
   "metadata": {},
   "outputs": [
    {
     "name": "stdout",
     "output_type": "stream",
     "text": [
      "results for the ´lectura´ task in PD subgroup\n",
      "mean cosine distance between onset features:  0.08449085947417685\n",
      "max cosine distance between onset features:  0.1457949770966248\n",
      "min cosine distance between onset features:  0.015488594034442693\n",
      "\n",
      "mean cosine distance between offset features:  0.032982481754756196\n",
      "max cosine distance between offset features:  0.06375824187565304\n",
      "min cosine distance between offset features:  0.010520079371688529\n"
     ]
    }
   ],
   "source": [
    "onset_distances_pd_lectura = []\n",
    "offset_distances_pd_lectura = []\n",
    "\n",
    "for articulation_dict in os.listdir(\"fondecyt_pd_lectura\"):\n",
    "    if articulation_dict.endswith(\".json\"):\n",
    "        onset, offset = articulation_dict_to_array(f\"fondecyt_pd_lectura/{articulation_dict}\")\n",
    "        # print(f\"cosine distance between cn_lectura_mean_onset and {articulation_dict} : \", cosine(cn_lectura_mean_onset, onset))\n",
    "        # print(f\"cosine distance between cn_lectura_mean_offset and {articulation_dict} : \", cosine(cn_lectura_mean_offset, offset))\n",
    "        onset_distances_pd_lectura.append(cosine(cn_lectura_mean_onset, onset))\n",
    "        offset_distances_pd_lectura.append(cosine(cn_lectura_mean_offset, offset))\n",
    "\n",
    "print(\"results for the ´lectura´ task in PD subgroup\")\n",
    "print(\"mean cosine distance between onset features: \", np.mean(onset_distances_pd_lectura))\n",
    "print(\"max cosine distance between onset features: \", np.max(onset_distances_pd_lectura))\n",
    "print(\"min cosine distance between onset features: \", np.min(onset_distances_pd_lectura))\n",
    "print()\n",
    "print(\"mean cosine distance between offset features: \", np.mean(offset_distances_pd_lectura))\n",
    "print(\"max cosine distance between offset features: \", np.max(offset_distances_pd_lectura))\n",
    "print(\"min cosine distance between offset features: \", np.min(offset_distances_pd_lectura))"
   ]
  },
  {
   "cell_type": "code",
   "execution_count": 43,
   "metadata": {},
   "outputs": [
    {
     "data": {
      "image/png": "[encoded data removed]",
      "text/plain": [
       "<Figure size 1000x1000 with 4 Axes>"
      ]
     },
     "metadata": {},
     "output_type": "display_data"
    }
   ],
   "source": [
    "#now lets plot the results\n",
    "fig, ax = plt.subplots(2, 2, figsize=(10, 10))\n",
    "ax[0, 0].hist(onset_distances_cn_lectura_test, bins=20)\n",
    "ax[0, 0].set_title('CN subgroup - Lectura task - onset features')\n",
    "ax[0, 1].hist(offset_distances_cn_lectura_test, bins=20)\n",
    "ax[0, 1].set_title('CN subgroup - Lectura task - offset features')\n",
    "ax[1, 0].hist(onset_distances_pd_lectura, bins=20)\n",
    "ax[1, 0].set_title('PD subgroup - Lectura task - onset features')\n",
    "ax[1, 1].hist(offset_distances_pd_lectura, bins=20)\n",
    "ax[1, 1].set_title('PD subgroup - Lectura task - offset features')\n",
    "plt.show()"
   ]
  },
  {
   "cell_type": "markdown",
   "metadata": {},
   "source": [
    "## Ok, let's repeat for the Pataka task"
   ]
  },
  {
   "cell_type": "code",
   "execution_count": 44,
   "metadata": {},
   "outputs": [],
   "source": [
    "cn_pataka_mean_onset, cn_pataka_mean_offset = articulation_dict_to_array(\"fondecyt_cn_pataka_averages.json\")"
   ]
  },
  {
   "cell_type": "code",
   "execution_count": 45,
   "metadata": {},
   "outputs": [],
   "source": [
    "# read the fondecyt_cn_lecutra_test.csv file\n",
    "fondecyt_cn_pataka_test = pd.read_csv('fondecyt_cn_pataka_test.csv')\n",
    "fondecyt_pd_pataka= pd.read_csv('fondecyt_pd_pataka.csv')\n",
    "\n",
    "# lets transform each row into a json file. filename column will be used as the filename, and then each column number will be\n",
    "# used as the key, and the value will be the value of the cell\n",
    "\n",
    "for index, row in fondecyt_cn_pataka_test.iterrows():\n",
    "    filename = row['filename']\n",
    "    row = row.drop('filename')\n",
    "    row = row.to_dict()\n",
    "    filename = os.path.split(filename)[-1]\n",
    "    with open(f\"fondecyt_cn_pataka/{filename}.json\", \"w\") as json_file:\n",
    "        json.dump(row, json_file)\n",
    "\n",
    "for index, row in fondecyt_pd_pataka.iterrows():\n",
    "    filename = row['filename']\n",
    "    row = row.drop('filename')\n",
    "    row = row.to_dict()\n",
    "    filename = os.path.split(filename)[-1]\n",
    "    with open(f\"fondecyt_pd_pataka/{filename}.json\", \"w\") as json_file:\n",
    "        json.dump(row, json_file)"
   ]
  },
  {
   "cell_type": "code",
   "execution_count": 46,
   "metadata": {},
   "outputs": [
    {
     "name": "stdout",
     "output_type": "stream",
     "text": [
      "results for the pataka task in CN subgroup\n",
      "mean cosine distance between onset features:  0.1653160068483658\n",
      "max cosine distance between onset features:  0.24060372155436593\n",
      "min cosine distance between onset features:  0.08735270178599064\n",
      "\n",
      "mean cosine distance between offset features:  0.03914926197461931\n",
      "max cosine distance between offset features:  0.1541127570735914\n",
      "min cosine distance between offset features:  0.010166488558532305\n"
     ]
    }
   ],
   "source": [
    "onset_distances_cn_pataka  = []\n",
    "offset_distances_cn_pataka  = []\n",
    "\n",
    "for articulation_dict in os.listdir(\"fondecyt_cn_pataka\"):\n",
    "    if articulation_dict.endswith(\".json\"):\n",
    "        onset, offset = articulation_dict_to_array(f\"fondecyt_cn_pataka/{articulation_dict}\")\n",
    "        onset_distances_cn_pataka .append(cosine(cn_pataka_mean_onset, onset))\n",
    "        offset_distances_cn_pataka .append(cosine(cn_pataka_mean_offset, offset))\n",
    "\n",
    "print(\"results for the pataka task in CN subgroup\")\n",
    "print(\"mean cosine distance between onset features: \", np.mean(onset_distances_cn_pataka ))\n",
    "print(\"max cosine distance between onset features: \", np.max(onset_distances_cn_pataka))\n",
    "print(\"min cosine distance between onset features: \", np.min(onset_distances_cn_pataka ))\n",
    "print()\n",
    "print(\"mean cosine distance between offset features: \", np.mean(offset_distances_cn_pataka ))\n",
    "print(\"max cosine distance between offset features: \", np.max(offset_distances_cn_pataka ))\n",
    "print(\"min cosine distance between offset features: \", np.min(offset_distances_cn_pataka ))\n"
   ]
  },
  {
   "cell_type": "code",
   "execution_count": 47,
   "metadata": {},
   "outputs": [
    {
     "name": "stdout",
     "output_type": "stream",
     "text": [
      "results for the pataka task in PD subgroup\n",
      "mean cosine distance between onset features:  0.19484424879521195\n",
      "max cosine distance between onset features:  0.5727122188861999\n",
      "min cosine distance between onset features:  0.08955228793456971\n",
      "\n",
      "mean cosine distance between offset features:  0.05743226137263792\n",
      "max cosine distance between offset features:  0.3239444858067786\n",
      "min cosine distance between offset features:  0.014503639910499966\n"
     ]
    }
   ],
   "source": [
    "onset_distances_pd_pataka = []\n",
    "offset_distances_pd_pataka = []\n",
    "\n",
    "for articulation_dict in os.listdir(\"fondecyt_pd_pataka\"):\n",
    "    if articulation_dict.endswith(\".json\"):\n",
    "        onset, offset = articulation_dict_to_array(f\"fondecyt_pd_pataka/{articulation_dict}\")\n",
    "        onset_distances_pd_pataka.append(cosine(cn_pataka_mean_onset, onset))\n",
    "        offset_distances_pd_pataka.append(cosine(cn_pataka_mean_offset, offset))\n",
    "\n",
    "print(\"results for the pataka task in PD subgroup\")\n",
    "print(\"mean cosine distance between onset features: \", np.mean(onset_distances_pd_pataka))\n",
    "print(\"max cosine distance between onset features: \", np.max(onset_distances_pd_pataka))\n",
    "print(\"min cosine distance between onset features: \", np.min(onset_distances_pd_pataka))\n",
    "print()\n",
    "print(\"mean cosine distance between offset features: \", np.mean(offset_distances_pd_pataka))\n",
    "print(\"max cosine distance between offset features: \", np.max(offset_distances_pd_pataka))\n",
    "print(\"min cosine distance between offset features: \", np.min(offset_distances_pd_pataka))"
   ]
  },
  {
   "cell_type": "code",
   "execution_count": 48,
   "metadata": {},
   "outputs": [
    {
     "data": {
      "image/png": "[encoded data removed]",
      "text/plain": [
       "<Figure size 1000x1000 with 4 Axes>"
      ]
     },
     "metadata": {},
     "output_type": "display_data"
    }
   ],
   "source": [
    "#now lets plot the results\n",
    "fig, ax = plt.subplots(2, 2, figsize=(10, 10))\n",
    "ax[0, 0].hist(onset_distances_cn_pataka, bins=20)\n",
    "ax[0, 0].set_title('CN subgroup - pataka task - onset features')\n",
    "ax[0, 1].hist(offset_distances_cn_pataka, bins=20)\n",
    "ax[0, 1].set_title('CN subgroup - pataka task - offset features')\n",
    "ax[1, 0].hist(onset_distances_pd_pataka, bins=20)\n",
    "ax[1, 0].set_title('PD subgroup - pataka task - onset features')\n",
    "ax[1, 1].hist(offset_distances_pd_pataka, bins=20)\n",
    "ax[1, 1].set_title('PD subgroup - pataka task - offset features')\n",
    "plt.show()"
   ]
  }
 ],
 "metadata": {
  "kernelspec": {
   "display_name": "Python 3",
   "language": "python",
   "name": "python3"
  },
  "language_info": {
   "codemirror_mode": {
    "name": "ipython",
    "version": 3
   },
   "file_extension": ".py",
   "mimetype": "text/x-python",
   "name": "python",
   "nbconvert_exporter": "python",
   "pygments_lexer": "ipython3",
   "version": "3.9.15"
  }
 },
 "nbformat": 4,
 "nbformat_minor": 2
}
