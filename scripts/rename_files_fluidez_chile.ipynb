{
  "cells": [
    {
      "cell_type": "code",
      "execution_count": 28,
      "metadata": {
        "id": "AZ2jiEyOaK4D"
      },
      "outputs": [],
      "source": [
        "import os\n",
        "import pandas as pd"
      ]
    },
    {
      "cell_type": "code",
      "execution_count": 10,
      "metadata": {
        "colab": {
          "base_uri": "https://localhost:8080/"
        },
        "id": "8lv-B8_4bcYd",
        "outputId": "c1438e6a-7ae3-4116-ce04-e3c657d8fcf9"
      },
      "outputs": [
        {
          "name": "stdout",
          "output_type": "stream",
          "text": [
            "\u001b[0m\u001b[01;34maudios_fluidez_chile\u001b[0m/  README.md         \u001b[01;34mscripts\u001b[0m/\n",
            "\u001b[01;34m__pycache__\u001b[0m/           requirements.txt  \u001b[01;34mutils\u001b[0m/\n"
          ]
        }
      ],
      "source": [
        "%ls"
      ]
    },
    {
      "cell_type": "code",
      "execution_count": 38,
      "metadata": {
        "id": "SRt8xk2XZxQ-"
      },
      "outputs": [],
      "source": [
        "def save_audio_files_to_excel(directory_path):\n",
        "    output_file = \"reference_paths_\" + directory_path + \".xlsx\"\n",
        "    audio_extensions = ['.wav', '.flac', '.mp3', '.ogg', '.aac', '.wma', '.m4a',\n",
        "                        '.aiff', '.webm', '.mkv','.mp4']\n",
        "    IDs = [\"CTR\", \"AD\", \"EP\"]\n",
        "    tareas = [\"(F)\",\"(A)\",\"(P)\",\"(S)\",\"(f)\",\"(a)\",\"(p)\",\"(s)\",\"animales\",\"Animales\"]\n",
        "    tarea_dict = {\"(F)\":\"letraF\",\"(A)\":\"letraA\",\"(P)\":\"letraP\",\"(S)\":\"letraS\",\n",
        "                  \"(f)\":\"letraF\",\"(a)\":\"letraA\",\"(p)\":\"letraP\",\"(s)\":\"letraS\",\n",
        "                  \"animales\":\"Animales\",\"Animales\":\"Animales\"}\n",
        "\n",
        "    audio_files = []\n",
        "    audio_files_modified = []\n",
        "    counter = 0\n",
        "\n",
        "    for foldername, subfolders, filenames in os.walk(directory_path):\n",
        "        for filename in filenames:\n",
        "          if any(filename.lower().endswith(ext) for ext in audio_extensions):\n",
        "              audio_files.append(os.path.join(foldername, filename))\n",
        "\n",
        "              new_filename = filename.replace(\")\", \"\")\n",
        "\n",
        "              os.rename(os.path.join(foldername, filename), os.path.join(foldername, new_filename))\n",
        "\n"
      ]
    },
    {
      "cell_type": "code",
      "execution_count": 39,
      "metadata": {
        "colab": {
          "base_uri": "https://localhost:8080/"
        },
        "id": "zlo5pQrdusO8",
        "outputId": "1488421a-fb94-4229-b351-0cc2a0db5cf9"
      },
      "outputs": [],
      "source": [
        "# Replace 'directory_path' with the NAME OF THE DIRECTORY of the dataset\n",
        "directory_path = 'audios_fluidez_chile/'\n",
        "\n",
        "save_audio_files_to_excel(directory_path)"
      ]
    },
    {
      "cell_type": "code",
      "execution_count": null,
      "metadata": {
        "id": "2Aj3b9S2njFg"
      },
      "outputs": [],
      "source": []
    }
  ],
  "metadata": {
    "colab": {
      "provenance": []
    },
    "kernelspec": {
      "display_name": "Python 3",
      "name": "python3"
    },
    "language_info": {
      "codemirror_mode": {
        "name": "ipython",
        "version": 3
      },
      "file_extension": ".py",
      "mimetype": "text/x-python",
      "name": "python",
      "nbconvert_exporter": "python",
      "pygments_lexer": "ipython3",
      "version": "3.9.15"
    }
  },
  "nbformat": 4,
  "nbformat_minor": 0
}
